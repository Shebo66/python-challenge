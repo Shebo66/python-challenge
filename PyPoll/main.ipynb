{
 "cells": [
  {
   "cell_type": "code",
   "execution_count": 1,
   "metadata": {},
   "outputs": [],
   "source": [
    "import csv"
   ]
  },
  {
   "cell_type": "code",
   "execution_count": 2,
   "metadata": {},
   "outputs": [],
   "source": [
    "election = \"Resources/election_data.csv\""
   ]
  },
  {
   "cell_type": "code",
   "execution_count": 3,
   "metadata": {},
   "outputs": [
    {
     "data": {
      "text/plain": [
       "3521001"
      ]
     },
     "execution_count": 3,
     "metadata": {},
     "output_type": "execute_result"
    }
   ],
   "source": [
    "with open (election) as poll:\n",
    "    data = csv.reader(poll)\n",
    "    header = next (data)\n",
    "    voter_id = []\n",
    "    country_list = []\n",
    "    candidate_list = []    \n",
    "    for lines in data:\n",
    "        #print(lines)\n",
    "        #print(str(lines[2]))\n",
    "        #store all voter_id\n",
    "        voter_id.append(lines[0])\n",
    "        #country_poll.append(str(lines[1]\n",
    "        #candidate_elect.append(str(lines[2])\n",
    "                            \n",
    "                         \n",
    "#print([voter_id])\n",
    "#print(country_poll)\n",
    "#print(candidate_elect)\n",
    "len(voter_id)\n",
    "\n",
    " "
   ]
  },
  {
   "cell_type": "code",
   "execution_count": 4,
   "metadata": {},
   "outputs": [
    {
     "name": "stdout",
     "output_type": "stream",
     "text": [
      "3521001\n"
     ]
    }
   ],
   "source": [
    "a = len(voter_id)\n",
    "print(a)"
   ]
  }
 ],
 "metadata": {
  "kernelspec": {
   "display_name": "Python 3",
   "language": "python",
   "name": "python3"
  },
  "language_info": {
   "codemirror_mode": {
    "name": "ipython",
    "version": 3
   },
   "file_extension": ".py",
   "mimetype": "text/x-python",
   "name": "python",
   "nbconvert_exporter": "python",
   "pygments_lexer": "ipython3",
   "version": "3.7.9"
  }
 },
 "nbformat": 4,
 "nbformat_minor": 4
}
