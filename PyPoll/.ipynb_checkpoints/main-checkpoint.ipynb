{
 "cells": [
  {
   "cell_type": "code",
   "execution_count": 1,
   "metadata": {},
   "outputs": [],
   "source": [
    "import csv"
   ]
  },
  {
   "cell_type": "code",
   "execution_count": 2,
   "metadata": {},
   "outputs": [],
   "source": [
    "election = \"Resources/election_data.csv\""
   ]
  },
  {
   "cell_type": "code",
   "execution_count": 18,
   "metadata": {},
   "outputs": [
    {
     "ename": "SyntaxError",
     "evalue": "invalid syntax (<ipython-input-18-f5b23ffcf2da>, line 13)",
     "output_type": "error",
     "traceback": [
      "\u001b[1;36m  File \u001b[1;32m\"<ipython-input-18-f5b23ffcf2da>\"\u001b[1;36m, line \u001b[1;32m13\u001b[0m\n\u001b[1;33m    candidate_elect.append(lines[2])\u001b[0m\n\u001b[1;37m                  ^\u001b[0m\n\u001b[1;31mSyntaxError\u001b[0m\u001b[1;31m:\u001b[0m invalid syntax\n"
     ]
    }
   ],
   "source": [
    "with open (election) as poll:\n",
    "    data = csv.reader(poll)\n",
    "    header = next (data)\n",
    "    voter_id = []\n",
    "    country_list = []\n",
    "    candidate_list = []\n",
    "    for lines in data:\n",
    "        print(lines)\n",
    "      \n",
    "        #store all voter_id\n",
    "        voter_id.append(lines[0])\n",
    "        country_poll.append(lines[1]\n",
    "        candidate_elect.append(lines[2])\n",
    "                         \n",
    "print([voter_id])\n",
    "print(country_poll)\n",
    "print(candidate_elect)\n",
    "#len(voter_id)\n",
    "\n",
    "\n",
    "\n",
    "        "
   ]
  },
  {
   "cell_type": "code",
   "execution_count": 4,
   "metadata": {},
   "outputs": [
    {
     "name": "stdout",
     "output_type": "stream",
     "text": [
      "3521001\n"
     ]
    }
   ],
   "source": [
    "a = len(voter_id)\n",
    "print(a)"
   ]
  }
 ],
 "metadata": {
  "kernelspec": {
   "display_name": "Python 3",
   "language": "python",
   "name": "python3"
  },
  "language_info": {
   "codemirror_mode": {
    "name": "ipython",
    "version": 3
   },
   "file_extension": ".py",
   "mimetype": "text/x-python",
   "name": "python",
   "nbconvert_exporter": "python",
   "pygments_lexer": "ipython3",
   "version": "3.7.9"
  }
 },
 "nbformat": 4,
 "nbformat_minor": 4
}
