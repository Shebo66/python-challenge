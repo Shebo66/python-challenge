{
 "cells": [
  {
   "cell_type": "code",
   "execution_count": 1,
   "metadata": {},
   "outputs": [],
   "source": [
    "import csv"
   ]
  },
  {
   "cell_type": "code",
   "execution_count": 2,
   "metadata": {},
   "outputs": [],
   "source": [
    "#assign data to variable\n",
    "#Data is assigned to variable called data\n",
    "budget = \"Resources/budget_data.csv\""
   ]
  },
  {
   "cell_type": "code",
   "execution_count": 21,
   "metadata": {},
   "outputs": [
    {
     "name": "stdout",
     "output_type": "stream",
     "text": [
      "999942\n",
      "-1022534\n"
     ]
    }
   ],
   "source": [
    "# open the csv file. It will open and close file\n",
    "#when you call function it will use: . so anything below will relate to this function\n",
    "with open (budget) as finance:\n",
    "    #use csv.reader to read the information in finance\n",
    "    #after opening send finance to the csv reader and assign it a name 'data' \n",
    "    data = csv.reader(finance)\n",
    "    #to remove header \n",
    "    header = next (data) \n",
    "     # store information create an empty list [] before the forloops.\n",
    "    profit_loss = []\n",
    "    month_list = []\n",
    "    total_months = 0\n",
    "    increase_profits = []\n",
    "    decrease_losses = []\n",
    "    \n",
    "        \n",
    "    #stay in the function 'with open':\n",
    "    #for things in data, print those things using forloops. I can name the things using any word. Here I have called them lines. Ic could use rows\n",
    "          \n",
    "    for lines in data: \n",
    "        #print(lines) # means prints all data\n",
    "        #print(lines [0]) #prints column 1  \n",
    "        #print(lines [1])prints column 2 \n",
    "        #pass means I do not need the function \n",
    "        \n",
    "        #to store all profit and loss data (i.e.column 2)\n",
    "        profit_loss.append(lines[1])\n",
    "        # to store all months data (i.e.column 2)\n",
    "        month_list.append(str(lines[0]))  \n",
    "        len(month_list)\n",
    "       #profit_loss = [int(i) for i in profit_loss]\n",
    "        #max_profit = max (profit_loss)\n",
    "        #max_loss = min (profit_loss)\n",
    "        #change_increase_decrease = [profit_loss[i]-profit_loss[i-1] for i in range (1,len (profit_loss))]\n",
    "        #remember average ,2 for two decimal points \n",
    "        \n",
    "print(max(profit_loss))  \n",
    "print(min(profit_loss))"
   ]
  },
  {
   "cell_type": "code",
   "execution_count": 22,
   "metadata": {},
   "outputs": [
    {
     "data": {
      "text/plain": [
       "86"
      ]
     },
     "execution_count": 22,
     "metadata": {},
     "output_type": "execute_result"
    }
   ],
   "source": [
    "len(month_list)"
   ]
  },
  {
   "cell_type": "code",
   "execution_count": 26,
   "metadata": {},
   "outputs": [
    {
     "ename": "SyntaxError",
     "evalue": "invalid syntax (<ipython-input-26-44278e90a437>, line 2)",
     "output_type": "error",
     "traceback": [
      "\u001b[1;36m  File \u001b[1;32m\"<ipython-input-26-44278e90a437>\"\u001b[1;36m, line \u001b[1;32m2\u001b[0m\n\u001b[1;33m    if profit_loss = 0\u001b[0m\n\u001b[1;37m                   ^\u001b[0m\n\u001b[1;31mSyntaxError\u001b[0m\u001b[1;31m:\u001b[0m invalid syntax\n"
     ]
    }
   ],
   "source": [
    "profit = int(lines[1])\n",
    "if profit_loss = 0\n",
    "    sum_profit = sum_profit + profit\n",
    "elif profit_loss  0\n",
    "    sum_loss = sum_loss + profit\n",
    "    total_profit_loss = sum_profit - sum_loss\n",
    "print(total_profit_loss)\n"
   ]
  }
 ],
 "metadata": {
  "kernelspec": {
   "display_name": "Python 3",
   "language": "python",
   "name": "python3"
  },
  "language_info": {
   "codemirror_mode": {
    "name": "ipython",
    "version": 3
   },
   "file_extension": ".py",
   "mimetype": "text/x-python",
   "name": "python",
   "nbconvert_exporter": "python",
   "pygments_lexer": "ipython3",
   "version": "3.7.9"
  }
 },
 "nbformat": 4,
 "nbformat_minor": 4
}
