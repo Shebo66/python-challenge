{
 "cells": [
  {
   "cell_type": "code",
   "execution_count": 25,
   "metadata": {},
   "outputs": [],
   "source": [
    "import csv"
   ]
  },
  {
   "cell_type": "code",
   "execution_count": 26,
   "metadata": {},
   "outputs": [],
   "source": [
    "#assign data to variable\n",
    "#Data is assigned to variable called data\n",
    "budget = \"Resources/budget_data.csv\""
   ]
  },
  {
   "cell_type": "code",
   "execution_count": 27,
   "metadata": {},
   "outputs": [
    {
     "ename": "SyntaxError",
     "evalue": "invalid syntax (<ipython-input-27-bc6ee53d0753>, line 40)",
     "output_type": "error",
     "traceback": [
      "\u001b[1;36m  File \u001b[1;32m\"<ipython-input-27-bc6ee53d0753>\"\u001b[1;36m, line \u001b[1;32m40\u001b[0m\n\u001b[1;33m    print(len(month_list))\u001b[0m\n\u001b[1;37m        ^\u001b[0m\n\u001b[1;31mSyntaxError\u001b[0m\u001b[1;31m:\u001b[0m invalid syntax\n"
     ]
    }
   ],
   "source": [
    "# open the csv file. It will open and close file\n",
    "#when you call function it will use: . so anything below will relate to this function\n",
    "with open (budget) as finance:\n",
    "    #use csv.reader to read the information in finance\n",
    "    #after opening send finance to the csv reader and assign it a name 'data' \n",
    "    data = csv.reader(finance)\n",
    "    #to remove header \n",
    "    header = next (data) \n",
    "    # store information create an empty list [] before the forloops.\n",
    "    profit_loss = []\n",
    "    month_list = []\n",
    "    total_months = 0\n",
    "    increase_profits = []\n",
    "    decrease_losses = []\n",
    "        \n",
    "    #stay in the function 'with open':\n",
    "    #for things in data, print those things using forloops. I can name the things using any word. Here I have called them lines. Ic could use rows\n",
    "          \n",
    "    for lines in data: \n",
    "        #print(lines) means prints all data\n",
    "        #print(lines [0])prints column 1  \n",
    "        #print(lines [1])prints column 2 \n",
    "        #pass means I do not need the function \n",
    "        \n",
    "        #to store all profit and loss data (i.e.column 2)\n",
    "        profit_loss.append(lines[1])\n",
    "        # to store all months data (i.e.column 2)\n",
    "        month_list.append(str(lines[0]))  \n",
    "      \n",
    "        profit_loss = [int(i) for i in profit_loss]\n",
    "        max_profit = max (profit_loss)\n",
    "        max_loss = min (profit_loss)\n",
    "        change_increase_decrease = [profit_loss[i]-profit_loss[i-1] for i in range (1,len (profit_loss))]\n",
    "        #remember average ,2 for two decimal points \n",
    "        average = round(sum(change_increase_decrease/(total_months-1),2 \n",
    "                            if int(lines[1]) == max_profit\n",
    "                            #increase_profits = lines[0]\n",
    "                            #if int(lines[1]) == max_loss\n",
    "                            #decrease_losses = lines[0]\n",
    "print(len(month_list))                            \n",
    "                                \n",
    "#come out of the forloop and  to'print' to store profit and loss. \n",
    "# Now Imangine that all water is in the glass and ready for work to be done on it\n",
    "#print(profit_loss)\n",
    "#print(max_profit)\n",
    "#print(max_loss)                    \n",
    "#print(len(month_list)\n",
    "#print(average)                          \n",
    "                                  "
   ]
  },
  {
   "cell_type": "code",
   "execution_count": null,
   "metadata": {},
   "outputs": [],
   "source": [
    "# a = max of profit and loss\n",
    "# you assign maximum value of profit a variable name\n",
    "a = max (profit_loss)\n",
    "print(a)\n"
   ]
  },
  {
   "cell_type": "code",
   "execution_count": null,
   "metadata": {},
   "outputs": [],
   "source": [
    "# note that I already stored the data as a list when I assigned profit_loss = []. So it will recongnise data for min\n",
    "b = min (profit_loss)\n",
    "print(b)"
   ]
  },
  {
   "cell_type": "code",
   "execution_count": 24,
   "metadata": {},
   "outputs": [
    {
     "ename": "NameError",
     "evalue": "name 'month_list' is not defined",
     "output_type": "error",
     "traceback": [
      "\u001b[1;31m---------------------------------------------------------------------------\u001b[0m",
      "\u001b[1;31mNameError\u001b[0m                                 Traceback (most recent call last)",
      "\u001b[1;32m<ipython-input-24-5d935378d025>\u001b[0m in \u001b[0;36m<module>\u001b[1;34m\u001b[0m\n\u001b[0;32m      1\u001b[0m \u001b[1;31m# count number of months in the entire period\u001b[0m\u001b[1;33m\u001b[0m\u001b[1;33m\u001b[0m\u001b[1;33m\u001b[0m\u001b[0m\n\u001b[1;32m----> 2\u001b[1;33m \u001b[0mlen\u001b[0m\u001b[1;33m(\u001b[0m\u001b[0mmonth_list\u001b[0m\u001b[1;33m)\u001b[0m\u001b[1;33m\u001b[0m\u001b[1;33m\u001b[0m\u001b[0m\n\u001b[0m",
      "\u001b[1;31mNameError\u001b[0m: name 'month_list' is not defined"
     ]
    }
   ],
   "source": [
    " # count number of months in the entire period \n",
    "len(month_list)"
   ]
  },
  {
   "cell_type": "code",
   "execution_count": null,
   "metadata": {},
   "outputs": [],
   "source": []
  },
  {
   "cell_type": "code",
   "execution_count": null,
   "metadata": {},
   "outputs": [],
   "source": [
    "\n",
    "\n"
   ]
  }
 ],
 "metadata": {
  "kernelspec": {
   "display_name": "Python 3",
   "language": "python",
   "name": "python3"
  },
  "language_info": {
   "codemirror_mode": {
    "name": "ipython",
    "version": 3
   },
   "file_extension": ".py",
   "mimetype": "text/x-python",
   "name": "python",
   "nbconvert_exporter": "python",
   "pygments_lexer": "ipython3",
   "version": "3.7.9"
  }
 },
 "nbformat": 4,
 "nbformat_minor": 4
}
